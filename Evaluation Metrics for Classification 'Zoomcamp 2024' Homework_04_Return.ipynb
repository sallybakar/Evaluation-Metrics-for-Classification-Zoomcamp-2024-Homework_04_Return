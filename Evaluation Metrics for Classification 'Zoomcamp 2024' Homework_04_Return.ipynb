{
 "cells": [
  {
   "cell_type": "markdown",
   "id": "dd0014f5-627f-4835-926d-e65f51e4bd35",
   "metadata": {},
   "source": [
    "## Homework: 04\n",
    ">The goal of this task is to evaluate the performance of a classification model on the Bank Marketing dataset. The target variable is whether a client subscribes to a term deposit, and the analysis focuses on optimizing and evaluating classification metrics such as ROC-AUC, which are essential for assessing model effectiveness in binary classification tasks.\n",
    "\n",
    "> Note: sometimes your answer doesn't match one of  \n",
    "> the options exactly. That's fine.  \n",
    "> Select the option that's closest to your solution."
   ]
  },
  {
   "cell_type": "markdown",
   "id": "fb02147e-866e-4fb7-b041-4a8a54bcb8ec",
   "metadata": {},
   "source": [
    "### Dataset\n",
    "\n",
    "In this homework, we will use the Bank Marketing dataset. Download it from [here](https://archive.ics.uci.edu/static/public/222/bank+marketing.zip).\n",
    "\n",
    "\n",
    "\n",
    "We need `bank-full.csv`.\n",
    "\n",
    "In this dataset the target variable is `y` variable - has the client subscribed a term deposit or not. "
   ]
  },
  {
   "cell_type": "markdown",
   "id": "e3610c64-5197-4d43-a369-e1c6c23f23de",
   "metadata": {},
   "source": [
    "### Dataset preparation\n",
    "\n",
    "For the rest of the homework, you'll need to use only these columns:\n",
    "\n",
    "* `'age'`,\n",
    "* `'job'`,\n",
    "* `'marital'`,\n",
    "* `'education'`,\n",
    "* `'balance'`,\n",
    "* `'housing'`,\n",
    "* `'contact'`,\n",
    "* `'day'`,\n",
    "* `'month'`,\n",
    "* `'duration'`,\n",
    "* `'campaign'`,\n",
    "* `'pdays'`,\n",
    "* `'previous'`,\n",
    "* `'poutcome'`,\n",
    "* `'y'`\n",
    "\n",
    "Split the data into 3 parts: train/validation/test with 60%/20%/20% distribution. Use `train_test_split` function for that with `random_state=1`"
   ]
  },
  {
   "cell_type": "code",
   "execution_count": 2,
   "id": "15107e7f-fee2-4315-b915-2c7041a7f57e",
   "metadata": {},
   "outputs": [],
   "source": [
    "# Import required modules.\n",
    "import pandas as pd\n",
    "import numpy as np\n",
    "\n",
    "import matplotlib.pyplot as plt\n",
    "import seaborn as sns\n",
    "\n",
    "from sklearn.model_selection import train_test_split\n",
    "\n",
    "from sklearn.metrics import roc_auc_score\n",
    "from sklearn.metrics import roc_curve\n",
    "\n",
    "from sklearn.feature_extraction import DictVectorizer\n",
    "from sklearn.linear_model import LogisticRegression\n",
    "from sklearn.model_selection import KFold\n",
    "\n",
    "%matplotlib inline"
   ]
  },
  {
   "cell_type": "code",
   "execution_count": 5,
   "id": "d1f83444-6a4a-4698-ab2b-252d0ecee510",
   "metadata": {},
   "outputs": [],
   "source": [
    "# Load the dataset\n",
    "data = pd.read_csv(\"C:/Users/PC-023/Documents/bank/bank-full.csv\", delimiter=';')\n"
   ]
  },
  {
   "cell_type": "code",
   "execution_count": 7,
   "id": "4f6cc5f7-1c90-4613-bc65-9e6d5b772d90",
   "metadata": {},
   "outputs": [
    {
     "data": {
      "text/html": [
       "<div>\n",
       "<style scoped>\n",
       "    .dataframe tbody tr th:only-of-type {\n",
       "        vertical-align: middle;\n",
       "    }\n",
       "\n",
       "    .dataframe tbody tr th {\n",
       "        vertical-align: top;\n",
       "    }\n",
       "\n",
       "    .dataframe thead th {\n",
       "        text-align: right;\n",
       "    }\n",
       "</style>\n",
       "<table border=\"1\" class=\"dataframe\">\n",
       "  <thead>\n",
       "    <tr style=\"text-align: right;\">\n",
       "      <th></th>\n",
       "      <th>age</th>\n",
       "      <th>job</th>\n",
       "      <th>marital</th>\n",
       "      <th>education</th>\n",
       "      <th>default</th>\n",
       "      <th>balance</th>\n",
       "      <th>housing</th>\n",
       "      <th>loan</th>\n",
       "      <th>contact</th>\n",
       "      <th>day</th>\n",
       "      <th>month</th>\n",
       "      <th>duration</th>\n",
       "      <th>campaign</th>\n",
       "      <th>pdays</th>\n",
       "      <th>previous</th>\n",
       "      <th>poutcome</th>\n",
       "      <th>y</th>\n",
       "    </tr>\n",
       "  </thead>\n",
       "  <tbody>\n",
       "    <tr>\n",
       "      <th>0</th>\n",
       "      <td>58</td>\n",
       "      <td>management</td>\n",
       "      <td>married</td>\n",
       "      <td>tertiary</td>\n",
       "      <td>no</td>\n",
       "      <td>2143</td>\n",
       "      <td>yes</td>\n",
       "      <td>no</td>\n",
       "      <td>unknown</td>\n",
       "      <td>5</td>\n",
       "      <td>may</td>\n",
       "      <td>261</td>\n",
       "      <td>1</td>\n",
       "      <td>-1</td>\n",
       "      <td>0</td>\n",
       "      <td>unknown</td>\n",
       "      <td>no</td>\n",
       "    </tr>\n",
       "    <tr>\n",
       "      <th>1</th>\n",
       "      <td>44</td>\n",
       "      <td>technician</td>\n",
       "      <td>single</td>\n",
       "      <td>secondary</td>\n",
       "      <td>no</td>\n",
       "      <td>29</td>\n",
       "      <td>yes</td>\n",
       "      <td>no</td>\n",
       "      <td>unknown</td>\n",
       "      <td>5</td>\n",
       "      <td>may</td>\n",
       "      <td>151</td>\n",
       "      <td>1</td>\n",
       "      <td>-1</td>\n",
       "      <td>0</td>\n",
       "      <td>unknown</td>\n",
       "      <td>no</td>\n",
       "    </tr>\n",
       "    <tr>\n",
       "      <th>2</th>\n",
       "      <td>33</td>\n",
       "      <td>entrepreneur</td>\n",
       "      <td>married</td>\n",
       "      <td>secondary</td>\n",
       "      <td>no</td>\n",
       "      <td>2</td>\n",
       "      <td>yes</td>\n",
       "      <td>yes</td>\n",
       "      <td>unknown</td>\n",
       "      <td>5</td>\n",
       "      <td>may</td>\n",
       "      <td>76</td>\n",
       "      <td>1</td>\n",
       "      <td>-1</td>\n",
       "      <td>0</td>\n",
       "      <td>unknown</td>\n",
       "      <td>no</td>\n",
       "    </tr>\n",
       "    <tr>\n",
       "      <th>3</th>\n",
       "      <td>47</td>\n",
       "      <td>blue-collar</td>\n",
       "      <td>married</td>\n",
       "      <td>unknown</td>\n",
       "      <td>no</td>\n",
       "      <td>1506</td>\n",
       "      <td>yes</td>\n",
       "      <td>no</td>\n",
       "      <td>unknown</td>\n",
       "      <td>5</td>\n",
       "      <td>may</td>\n",
       "      <td>92</td>\n",
       "      <td>1</td>\n",
       "      <td>-1</td>\n",
       "      <td>0</td>\n",
       "      <td>unknown</td>\n",
       "      <td>no</td>\n",
       "    </tr>\n",
       "    <tr>\n",
       "      <th>4</th>\n",
       "      <td>33</td>\n",
       "      <td>unknown</td>\n",
       "      <td>single</td>\n",
       "      <td>unknown</td>\n",
       "      <td>no</td>\n",
       "      <td>1</td>\n",
       "      <td>no</td>\n",
       "      <td>no</td>\n",
       "      <td>unknown</td>\n",
       "      <td>5</td>\n",
       "      <td>may</td>\n",
       "      <td>198</td>\n",
       "      <td>1</td>\n",
       "      <td>-1</td>\n",
       "      <td>0</td>\n",
       "      <td>unknown</td>\n",
       "      <td>no</td>\n",
       "    </tr>\n",
       "  </tbody>\n",
       "</table>\n",
       "</div>"
      ],
      "text/plain": [
       "   age           job  marital  education default  balance housing loan  \\\n",
       "0   58    management  married   tertiary      no     2143     yes   no   \n",
       "1   44    technician   single  secondary      no       29     yes   no   \n",
       "2   33  entrepreneur  married  secondary      no        2     yes  yes   \n",
       "3   47   blue-collar  married    unknown      no     1506     yes   no   \n",
       "4   33       unknown   single    unknown      no        1      no   no   \n",
       "\n",
       "   contact  day month  duration  campaign  pdays  previous poutcome   y  \n",
       "0  unknown    5   may       261         1     -1         0  unknown  no  \n",
       "1  unknown    5   may       151         1     -1         0  unknown  no  \n",
       "2  unknown    5   may        76         1     -1         0  unknown  no  \n",
       "3  unknown    5   may        92         1     -1         0  unknown  no  \n",
       "4  unknown    5   may       198         1     -1         0  unknown  no  "
      ]
     },
     "execution_count": 7,
     "metadata": {},
     "output_type": "execute_result"
    }
   ],
   "source": [
    "# Show the head of data\n",
    "data.head()"
   ]
  },
  {
   "cell_type": "code",
   "execution_count": 8,
   "id": "aad7aea7-0f5e-41d8-baf1-a4c4b533a2d5",
   "metadata": {},
   "outputs": [
    {
     "data": {
      "text/plain": [
       "(45211, 17)"
      ]
     },
     "execution_count": 8,
     "metadata": {},
     "output_type": "execute_result"
    }
   ],
   "source": [
    "# Show the shape of df_in.\n",
    "data.shape"
   ]
  },
  {
   "cell_type": "code",
   "execution_count": 9,
   "id": "f8420823-4f5d-46fd-80c5-8fe7e8ced185",
   "metadata": {},
   "outputs": [],
   "source": [
    "# Subset the dataset.\n",
    "col_use = ['age', 'job', 'marital', 'education', 'balance', 'housing', 'contact', 'day', \n",
    "             'month', 'duration', 'campaign', 'pdays', 'previous', 'poutcome', 'y']"
   ]
  },
  {
   "cell_type": "code",
   "execution_count": 10,
   "id": "b66c5338-c6fd-4532-9f4c-3140a5ddd6a2",
   "metadata": {},
   "outputs": [],
   "source": [
    "# Initialize numerical and categorical variables.\n",
    "numerical = [\"age\", \"balance\", \"day\", \"duration\", \"campaign\", \"pdays\", \"previous\"]\n",
    "categorical = ['job', 'marital', 'education', 'housing', 'contact', 'month', 'poutcome']"
   ]
  },
  {
   "cell_type": "code",
   "execution_count": 11,
   "id": "7d350107-c32b-4c9a-8c71-84e926112f54",
   "metadata": {},
   "outputs": [],
   "source": [
    "# Replace the values `yes`/`no` with `1`/`0` in column y.\n",
    "df = data.copy()\n",
    "df = df[col_use]\n",
    "df.loc[:, 'y'] = df['y'].map({'yes': '1', 'no': '0'})\n",
    "\n",
    "# Split the dataset.\n",
    "df_full_train, df_test = train_test_split(df, test_size=0.2, random_state=1)\n",
    "df_train, df_val = train_test_split(df_full_train, test_size=0.25, random_state=1)\n",
    "\n",
    "df_train = df_train.reset_index(drop=True)\n",
    "df_val = df_val.reset_index(drop=True)\n",
    "df_test = df_test.reset_index(drop=True)\n",
    "\n",
    "y_train = df_train.y.values\n",
    "y_val = df_val.y.values\n",
    "y_test = df_test.y.values\n",
    "\n",
    "del df_train['y']\n",
    "del df_val['y']\n",
    "del df_test['y']"
   ]
  },
  {
   "cell_type": "markdown",
   "id": "e9bc9e45-1efc-46fc-b13f-2b74d51dd27f",
   "metadata": {},
   "source": [
    "### Question 1: ROC AUC feature importance\n",
    "\n",
    "ROC AUC could also be used to evaluate feature importance of numerical variables. \n",
    "\n",
    "Let's do that\n",
    "\n",
    "* For each numerical variable, use it as score (aka prediction) and compute the AUC with the `y` variable as ground truth.\n",
    "* Use the training dataset for that\n",
    "\n",
    "\n",
    "If your AUC is < 0.5, invert this variable by putting \"-\" in front\n",
    "\n",
    "(e.g. `-df_train['engine_hp']`)\n",
    "\n",
    "AUC can go below 0.5 if the variable is negatively correlated with the target variable. You can change the direction of the correlation by negating this variable - then negative correlation becomes positive.\n",
    "\n",
    "Which numerical variable (among the following 4) has the highest AUC?\n",
    "\n",
    "- `balance`\n",
    "- `day`\n",
    "- `duration`\n",
    "- `previous`"
   ]
  },
  {
   "cell_type": "code",
   "execution_count": 13,
   "id": "cae1bb0f-903e-4e8e-b1b4-13d61b39fa66",
   "metadata": {},
   "outputs": [
    {
     "name": "stdout",
     "output_type": "stream",
     "text": [
      "      age, 0.512\n",
      "  balance, 0.589\n",
      "      day, 0.526\n",
      " duration, 0.815\n",
      " campaign, 0.571\n",
      "    pdays, 0.590\n",
      " previous, 0.599\n"
     ]
    }
   ],
   "source": [
    "# Calculate roc_auc_score for numerical.\n",
    "for c in numerical:\n",
    "  auc = roc_auc_score(y_train, df_train[c])\n",
    "  if auc < 0.5:\n",
    "    auc = roc_auc_score(y_train, -df_train[c])\n",
    "  print('%9s, %.3f' % (c, auc))"
   ]
  },
  {
   "cell_type": "markdown",
   "id": "f8bef92d-21eb-4175-882f-dee29dfae598",
   "metadata": {},
   "source": [
    "Question 1 Answer= duration"
   ]
  },
  {
   "cell_type": "markdown",
   "id": "a3acf474-42e8-4678-829d-6b3ed48e7bf0",
   "metadata": {},
   "source": [
    "### Question 2: Training the model\n",
    "\n",
    "Apply one-hot-encoding using `DictVectorizer` and train the logistic regression with these parameters:\n",
    "\n",
    "```python\n",
    "LogisticRegression(solver='liblinear', C=1.0, max_iter=1000)\n",
    "```\n",
    "\n",
    "What's the AUC of this model on the validation dataset? (round to 3 digits)\n",
    "\n",
    "- 0.69\n",
    "- 0.79\n",
    "- 0.89\n",
    "- 0.99"
   ]
  },
  {
   "cell_type": "code",
   "execution_count": 14,
   "id": "01672d12-32c7-4643-97c3-3af4fe56c454",
   "metadata": {},
   "outputs": [
    {
     "name": "stdout",
     "output_type": "stream",
     "text": [
      "0.9\n"
     ]
    }
   ],
   "source": [
    "# Train a logistic regression model.\n",
    "columns = numerical + categorical\n",
    "\n",
    "dv = DictVectorizer(sparse=False)\n",
    "train_dicts = df_train[columns].to_dict(orient='records')\n",
    "val_dicts = df_val[columns].to_dict(orient='records')\n",
    "\n",
    "X_train = dv.fit_transform(train_dicts)\n",
    "X_val = dv.transform(val_dicts)\n",
    "\n",
    "model = LogisticRegression(solver='liblinear', C=1.0, max_iter=1000)\n",
    "model.fit(X_train, y_train)\n",
    "\n",
    "y_pred = model.predict_proba(X_val)[:, 1]\n",
    "the_score = roc_auc_score(y_val, y_pred)\n",
    "\n",
    "print(round(the_score, 2))"
   ]
  },
  {
   "cell_type": "markdown",
   "id": "0d3b376c-d0df-42f3-bd8d-58e807912869",
   "metadata": {},
   "source": [
    "Question 2 Answer= 0.89"
   ]
  },
  {
   "cell_type": "markdown",
   "id": "9bf16665-5d85-4136-b424-5ac5b0f3be97",
   "metadata": {},
   "source": [
    "### Question 3: Precision and Recall\n",
    "\n",
    "Now let's compute precision and recall for our model.\n",
    "\n",
    "* Evaluate the model on all thresholds from 0.0 to 1.0 with step 0.01\n",
    "* For each threshold, compute precision and recall\n",
    "* Plot them\n",
    "\n",
    "At which threshold precision and recall curves intersect?\n",
    "\n",
    "* 0.265\n",
    "* 0.465\n",
    "* 0.665\n",
    "* 0.865"
   ]
  },
  {
   "cell_type": "code",
   "execution_count": 15,
   "id": "423263e8-6763-41b2-81ae-97218987139a",
   "metadata": {},
   "outputs": [
    {
     "name": "stdout",
     "output_type": "stream",
     "text": [
      "0.66\n"
     ]
    }
   ],
   "source": [
    "# Inspect the bin ROC AUC SCORE.\n",
    "y_pred_bin = model.predict(X_val)\n",
    "bin_score = roc_auc_score(y_val, y_pred_bin)\n",
    "print(round(bin_score, 2))"
   ]
  },
  {
   "cell_type": "markdown",
   "id": "d29f2d86-e543-4cb2-ab50-4010f7f59bcd",
   "metadata": {},
   "source": [
    "Question 3 Answer= 0.66"
   ]
  },
  {
   "cell_type": "code",
   "execution_count": 17,
   "id": "ea746131-1cdd-4a48-a71b-b45c260e9e99",
   "metadata": {},
   "outputs": [],
   "source": [
    "# Replace the values `yes`/`no` with 1/0 in column y.\n",
    "df = data.copy()\n",
    "df = df[col_use]\n",
    "df.loc[:, 'y'] = df['y'].map({'yes': 1, 'no': 0})\n",
    "\n",
    "# Split the dataset.\n",
    "df_full_train, df_test = train_test_split(df, test_size=0.2, random_state=1)\n",
    "df_train, df_val = train_test_split(df_full_train, test_size=0.25, random_state=1)\n",
    "\n",
    "df_train = df_train.reset_index(drop=True)\n",
    "df_val = df_val.reset_index(drop=True)\n",
    "df_test = df_test.reset_index(drop=True)\n",
    "\n",
    "y_train = df_train.y.values\n",
    "y_val = df_val.y.values\n",
    "y_test = df_test.y.values\n",
    "\n",
    "del df_train['y']\n",
    "del df_val['y']\n",
    "del df_test['y']"
   ]
  },
  {
   "cell_type": "code",
   "execution_count": 18,
   "id": "84758896-ca32-4d6d-89e7-9cb3ef511821",
   "metadata": {},
   "outputs": [],
   "source": [
    "# Define confusion_matrix_dataframe function.\n",
    "def confusion_matrix_dataframe(y_val, y_pred):\n",
    "    scores = []\n",
    "\n",
    "    thresholds = np.linspace(0, 1, 101)\n",
    "\n",
    "    for t in thresholds:\n",
    "        actual_positive = (y_val == 1)\n",
    "        actual_negative = (y_val == 0)\n",
    "\n",
    "        predict_positive = (y_pred >= t)\n",
    "        predict_negative = (y_pred < t)\n",
    "\n",
    "        tp = (predict_positive & actual_positive).sum()\n",
    "        tn = (predict_negative & actual_negative).sum()\n",
    "\n",
    "        fp = (predict_positive & actual_negative).sum()\n",
    "        fn = (predict_negative & actual_positive).sum()\n",
    "\n",
    "        scores.append((t, tp, fp, fn, tn))\n",
    "\n",
    "    columns = ['threshold', 'tp', 'fp', 'fn', 'tn']\n",
    "    df_scores = pd.DataFrame(scores, columns=columns)\n",
    "    \n",
    "    return df_scores"
   ]
  },
  {
   "cell_type": "code",
   "execution_count": 19,
   "id": "3eb2f44b-ea16-4ccc-914b-90981700ca29",
   "metadata": {},
   "outputs": [
    {
     "data": {
      "text/html": [
       "<div>\n",
       "<style scoped>\n",
       "    .dataframe tbody tr th:only-of-type {\n",
       "        vertical-align: middle;\n",
       "    }\n",
       "\n",
       "    .dataframe tbody tr th {\n",
       "        vertical-align: top;\n",
       "    }\n",
       "\n",
       "    .dataframe thead th {\n",
       "        text-align: right;\n",
       "    }\n",
       "</style>\n",
       "<table border=\"1\" class=\"dataframe\">\n",
       "  <thead>\n",
       "    <tr style=\"text-align: right;\">\n",
       "      <th></th>\n",
       "      <th>threshold</th>\n",
       "      <th>tp</th>\n",
       "      <th>fp</th>\n",
       "      <th>fn</th>\n",
       "      <th>tn</th>\n",
       "    </tr>\n",
       "  </thead>\n",
       "  <tbody>\n",
       "    <tr>\n",
       "      <th>0</th>\n",
       "      <td>0.0</td>\n",
       "      <td>1098</td>\n",
       "      <td>7944</td>\n",
       "      <td>0</td>\n",
       "      <td>0</td>\n",
       "    </tr>\n",
       "    <tr>\n",
       "      <th>10</th>\n",
       "      <td>0.1</td>\n",
       "      <td>926</td>\n",
       "      <td>1494</td>\n",
       "      <td>172</td>\n",
       "      <td>6450</td>\n",
       "    </tr>\n",
       "    <tr>\n",
       "      <th>20</th>\n",
       "      <td>0.2</td>\n",
       "      <td>711</td>\n",
       "      <td>691</td>\n",
       "      <td>387</td>\n",
       "      <td>7253</td>\n",
       "    </tr>\n",
       "    <tr>\n",
       "      <th>30</th>\n",
       "      <td>0.3</td>\n",
       "      <td>565</td>\n",
       "      <td>412</td>\n",
       "      <td>533</td>\n",
       "      <td>7532</td>\n",
       "    </tr>\n",
       "    <tr>\n",
       "      <th>40</th>\n",
       "      <td>0.4</td>\n",
       "      <td>459</td>\n",
       "      <td>273</td>\n",
       "      <td>639</td>\n",
       "      <td>7671</td>\n",
       "    </tr>\n",
       "    <tr>\n",
       "      <th>50</th>\n",
       "      <td>0.5</td>\n",
       "      <td>371</td>\n",
       "      <td>193</td>\n",
       "      <td>727</td>\n",
       "      <td>7751</td>\n",
       "    </tr>\n",
       "    <tr>\n",
       "      <th>60</th>\n",
       "      <td>0.6</td>\n",
       "      <td>290</td>\n",
       "      <td>137</td>\n",
       "      <td>808</td>\n",
       "      <td>7807</td>\n",
       "    </tr>\n",
       "    <tr>\n",
       "      <th>70</th>\n",
       "      <td>0.7</td>\n",
       "      <td>224</td>\n",
       "      <td>102</td>\n",
       "      <td>874</td>\n",
       "      <td>7842</td>\n",
       "    </tr>\n",
       "    <tr>\n",
       "      <th>80</th>\n",
       "      <td>0.8</td>\n",
       "      <td>148</td>\n",
       "      <td>69</td>\n",
       "      <td>950</td>\n",
       "      <td>7875</td>\n",
       "    </tr>\n",
       "    <tr>\n",
       "      <th>90</th>\n",
       "      <td>0.9</td>\n",
       "      <td>77</td>\n",
       "      <td>28</td>\n",
       "      <td>1021</td>\n",
       "      <td>7916</td>\n",
       "    </tr>\n",
       "    <tr>\n",
       "      <th>100</th>\n",
       "      <td>1.0</td>\n",
       "      <td>0</td>\n",
       "      <td>0</td>\n",
       "      <td>1098</td>\n",
       "      <td>7944</td>\n",
       "    </tr>\n",
       "  </tbody>\n",
       "</table>\n",
       "</div>"
      ],
      "text/plain": [
       "     threshold    tp    fp    fn    tn\n",
       "0          0.0  1098  7944     0     0\n",
       "10         0.1   926  1494   172  6450\n",
       "20         0.2   711   691   387  7253\n",
       "30         0.3   565   412   533  7532\n",
       "40         0.4   459   273   639  7671\n",
       "50         0.5   371   193   727  7751\n",
       "60         0.6   290   137   808  7807\n",
       "70         0.7   224   102   874  7842\n",
       "80         0.8   148    69   950  7875\n",
       "90         0.9    77    28  1021  7916\n",
       "100        1.0     0     0  1098  7944"
      ]
     },
     "execution_count": 19,
     "metadata": {},
     "output_type": "execute_result"
    }
   ],
   "source": [
    "# Create the confusion matrix.\n",
    "df_scores = confusion_matrix_dataframe(y_val, y_pred)\n",
    "df_scores[::10]"
   ]
  },
  {
   "cell_type": "code",
   "execution_count": 20,
   "id": "d9aba8dd-e10d-4714-9295-1464f6a4fcfc",
   "metadata": {},
   "outputs": [],
   "source": [
    "# Add the columns.\n",
    "df_scores['p'] = df_scores.tp / (df_scores.tp + df_scores.fp)\n",
    "df_scores['r'] = df_scores.tp / (df_scores.tp + df_scores.fn)"
   ]
  },
  {
   "cell_type": "code",
   "execution_count": 21,
   "id": "f2253436-4e43-42df-b046-5c14ae678669",
   "metadata": {},
   "outputs": [
    {
     "data": {
      "image/png": "[encoded data removed]",
      "text/plain": [
       "<Figure size 640x480 with 1 Axes>"
      ]
     },
     "metadata": {},
     "output_type": "display_data"
    }
   ],
   "source": [
    "#Implement the curves.\n",
    "plt.plot(df_scores.threshold, df_scores.p, label='precision')\n",
    "plt.plot(df_scores.threshold, df_scores.r, label='recall')\n",
    "\n",
    "plt.legend()\n",
    "plt.show()"
   ]
  },
  {
   "cell_type": "markdown",
   "id": "27f3ce0b-c6d3-48d5-b80c-bfe3e5a96d8c",
   "metadata": {},
   "source": [
    "Question 3 Answer= 0.265"
   ]
  },
  {
   "cell_type": "markdown",
   "id": "16cbb5cc-20ba-4a20-a0ea-2a23aeea4c0e",
   "metadata": {},
   "source": [
    "### Question 4: F1 score\n",
    "\n",
    "Precision and recall are conflicting - when one grows, the other goes down. That's why they are often combined into the F1 score - a metrics that takes into account both\n",
    "\n",
    "This is the formula for computing F1:\n",
    "\n",
    "$$F_1 = 2 \\cdot \\cfrac{P \\cdot R}{P + R}$$\n",
    "\n",
    "Where $P$ is precision and $R$ is recall.\n",
    "\n",
    "Let's compute F1 for all thresholds from 0.0 to 1.0 with increment 0.01\n",
    "\n",
    "At which threshold F1 is maximal?\n",
    "\n",
    "- 0.02\n",
    "- 0.22\n",
    "- 0.42\n",
    "- 0.62"
   ]
  },
  {
   "cell_type": "code",
   "execution_count": 23,
   "id": "7ec1b7a0-93c7-48fa-a708-af6f72c27ac5",
   "metadata": {},
   "outputs": [],
   "source": [
    "# Get the F1 scores.\n",
    "df_scores['f1'] = 2 * df_scores.p * df_scores.r / (df_scores.p + df_scores.r)"
   ]
  },
  {
   "cell_type": "code",
   "execution_count": 24,
   "id": "639fbeda-d928-4b84-86bc-a159f6dd05fb",
   "metadata": {},
   "outputs": [
    {
     "data": {
      "image/png": "[encoded data removed]",
      "text/plain": [
       "<Figure size 640x480 with 1 Axes>"
      ]
     },
     "metadata": {},
     "output_type": "display_data"
    }
   ],
   "source": [
    "# Plot the F1 scores.\n",
    "plt.plot(df_scores.threshold, df_scores.f1)\n",
    "plt.xticks(np.linspace(0, 1, 11))\n",
    "plt.show()"
   ]
  },
  {
   "cell_type": "markdown",
   "id": "f5c0d0d0-2beb-4b8f-85ec-c214a7118c2d",
   "metadata": {},
   "source": [
    "Question 4 Answer= 0.22"
   ]
  },
  {
   "cell_type": "code",
   "execution_count": 25,
   "id": "1191b337-acba-48f5-bbfa-b3721c386669",
   "metadata": {},
   "outputs": [],
   "source": [
    "# Replace the values `yes`/`no` with `1`/`0` in column y.\n",
    "df = data.copy()\n",
    "df = df[col_use]\n",
    "df.loc[:, 'y'] = df['y'].map({'yes': '1', 'no': '0'})\n",
    "\n",
    "# Split the dataset.\n",
    "df_full_train, df_test = train_test_split(df, test_size=0.2, random_state=1)\n",
    "df_train, df_val = train_test_split(df_full_train, test_size=0.25, random_state=1)\n",
    "\n",
    "df_train = df_train.reset_index(drop=True)\n",
    "df_val = df_val.reset_index(drop=True)\n",
    "df_test = df_test.reset_index(drop=True)\n",
    "\n",
    "y_train = df_train.y.values\n",
    "y_val = df_val.y.values\n",
    "y_test = df_test.y.values\n",
    "\n",
    "del df_train['y']\n",
    "del df_val['y']\n",
    "del df_test['y']"
   ]
  },
  {
   "cell_type": "markdown",
   "id": "c1b96335-b4e1-4307-bf3b-a45408b6c7e0",
   "metadata": {},
   "source": [
    "### Question 5: 5-Fold CV\n",
    "\n",
    "\n",
    "Use the `KFold` class from Scikit-Learn to evaluate our model on 5 different folds:\n",
    "\n",
    "```\n",
    "KFold(n_splits=5, shuffle=True, random_state=1)\n",
    "```\n",
    "\n",
    "* Iterate over different folds of `df_full_train`\n",
    "* Split the data into train and validation\n",
    "* Train the model on train with these parameters: `LogisticRegression(solver='liblinear', C=1.0, max_iter=1000)`\n",
    "* Use AUC to evaluate the model on validation\n",
    "\n",
    "How large is standard deviation of the scores across different folds?\n",
    "\n",
    "- 0.0001\n",
    "- 0.006\n",
    "- 0.06\n",
    "- 0.26"
   ]
  },
  {
   "cell_type": "code",
   "execution_count": 26,
   "id": "53a3d96f-06c1-4fec-baef-32fbd28a62b0",
   "metadata": {},
   "outputs": [],
   "source": [
    "# Define function to train scores.\n",
    "def train(df_train, y_train, C=1.0):\n",
    "    dicts = df_train[columns].to_dict(orient='records')\n",
    "\n",
    "    dv = DictVectorizer(sparse=False)\n",
    "    X_train = dv.fit_transform(dicts)\n",
    "\n",
    "    model = LogisticRegression(solver='liblinear', C=C, max_iter=1000)\n",
    "    model.fit(X_train, y_train)\n",
    "\n",
    "    return dv, model"
   ]
  },
  {
   "cell_type": "code",
   "execution_count": 27,
   "id": "14022b1b-369a-43b5-814e-aabd29263cf9",
   "metadata": {},
   "outputs": [],
   "source": [
    "# Define function to predict scores.\n",
    "def predict(df, dv, model):\n",
    "    dicts = df[columns].to_dict(orient='records')\n",
    "\n",
    "    X = dv.transform(dicts)\n",
    "    y_pred = model.predict_proba(X)[:, 1]\n",
    "\n",
    "    return y_pred"
   ]
  },
  {
   "cell_type": "code",
   "execution_count": 28,
   "id": "6acb2849-f4da-4149-a188-ab759c9ad7e5",
   "metadata": {},
   "outputs": [
    {
     "name": "stdout",
     "output_type": "stream",
     "text": [
      "0.906 +- 0.005\n"
     ]
    }
   ],
   "source": [
    "# Initiate a KFOLD CROSS VALIDATION.\n",
    "scores = []\n",
    "\n",
    "kfold = KFold(n_splits=5, shuffle=True, random_state=1)\n",
    "\n",
    "for train_idx, val_idx in kfold.split(df_full_train):\n",
    "    df_train = df_full_train.iloc[train_idx]\n",
    "    df_val = df_full_train.iloc[val_idx]\n",
    "\n",
    "    y_train = df_train.y\n",
    "    y_val = df_val.y\n",
    "\n",
    "    dv, model = train(df_train, y_train, C=1.0)\n",
    "    y_pred = predict(df_val, dv, model)\n",
    "\n",
    "    auc = roc_auc_score(y_val, y_pred)\n",
    "    scores.append(auc)\n",
    "\n",
    "print('%.3f +- %.3f' % (np.mean(scores), np.std(scores)))"
   ]
  },
  {
   "cell_type": "markdown",
   "id": "ac414686-b3ac-4197-8a25-4f5d0f1a3b32",
   "metadata": {},
   "source": [
    "Question 5 Closest Answer= 0.006"
   ]
  },
  {
   "cell_type": "markdown",
   "id": "2cfc6cf5-2a3e-47f0-8dbd-13f7e5ee4a87",
   "metadata": {},
   "source": [
    "### Question 6: Hyperparameter Tuning\n",
    "\n",
    "Now let's use 5-Fold cross-validation to find the best parameter `C`\n",
    "\n",
    "* Iterate over the following `C` values: `[0.000001, 0.001, 1]`\n",
    "* Initialize `KFold` with the same parameters as previously\n",
    "* Use these parameters for the model: `LogisticRegression(solver='liblinear', C=C, max_iter=1000)`\n",
    "* Compute the mean score as well as the std (round the mean and std to 3 decimal digits)\n",
    "\n",
    "Which `C` leads to the best mean score?\n",
    "\n",
    "- 0.000001\n",
    "- 0.001\n",
    "- 1\n",
    "\n",
    "If you have ties, select the score with the lowest std. If you still have ties, select the smallest `C`."
   ]
  },
  {
   "cell_type": "code",
   "execution_count": 30,
   "id": "9219542e-d861-4463-91f5-656870ee800c",
   "metadata": {},
   "outputs": [
    {
     "name": "stdout",
     "output_type": "stream",
     "text": [
      "C=1e-06, 0.701 +- 0.009\n",
      "C=0.001, 0.861 +- 0.007\n",
      "C=   1, 0.906 +- 0.005\n"
     ]
    }
   ],
   "source": [
    "# Initiate a KFOLD CROSS VALIDATION with various C.\n",
    "kfold = KFold(n_splits=5, shuffle=True, random_state=1)\n",
    "\n",
    "for C in [0.000001, 0.001, 1]:\n",
    "    scores = []\n",
    "\n",
    "    for train_idx, val_idx in kfold.split(df_full_train):\n",
    "        df_train = df_full_train.iloc[train_idx]\n",
    "        df_val = df_full_train.iloc[val_idx]\n",
    "\n",
    "        y_train = df_train.y\n",
    "        y_val = df_val.y\n",
    "\n",
    "        dv, model = train(df_train, y_train, C=C)\n",
    "        y_pred = predict(df_val, dv, model)\n",
    "\n",
    "        auc = roc_auc_score(y_val, y_pred)\n",
    "        scores.append(auc)\n",
    "\n",
    "    print('C=%4s, %.3f +- %.3f' % (C, np.mean(scores), np.std(scores)))"
   ]
  },
  {
   "cell_type": "markdown",
   "id": "ddaeeac5-4079-4540-a8e6-a52a9078a7b8",
   "metadata": {},
   "source": [
    "Question 6 Answer= 1"
   ]
  },
  {
   "cell_type": "markdown",
   "id": "523ae02e-d194-4614-a20c-96b1ee672c83",
   "metadata": {},
   "source": [
    "### Discussion: \n",
    "> This analysis emphasizes splitting the dataset into training, validation, and test sets, processing categorical and numerical features, and transforming the target variable for binary classification. Using logistic regression as a baseline model, the notebook demonstrates how to measure classification performance, particularly through ROC-AUC metrics, which help understand the model's ability to distinguish between positive and negative classes effectively."
   ]
  },
  {
   "cell_type": "code",
   "execution_count": null,
   "id": "0e4779c2-dbe5-4ebc-a6f8-95004b47a04a",
   "metadata": {},
   "outputs": [],
   "source": []
  }
 ],
 "metadata": {
  "kernelspec": {
   "display_name": "Python 3 (ipykernel)",
   "language": "python",
   "name": "python3"
  },
  "language_info": {
   "codemirror_mode": {
    "name": "ipython",
    "version": 3
   },
   "file_extension": ".py",
   "mimetype": "text/x-python",
   "name": "python",
   "nbconvert_exporter": "python",
   "pygments_lexer": "ipython3",
   "version": "3.12.4"
  }
 },
 "nbformat": 4,
 "nbformat_minor": 5
}
